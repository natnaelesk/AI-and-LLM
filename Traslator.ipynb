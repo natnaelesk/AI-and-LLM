{
  "nbformat": 4,
  "nbformat_minor": 0,
  "metadata": {
    "colab": {
      "provenance": []
    },
    "kernelspec": {
      "name": "python3",
      "display_name": "Python 3"
    },
    "language_info": {
      "name": "python"
    }
  },
  "cells": [
    {
      "cell_type": "markdown",
      "source": [
        "# 🔥 English to French Translator\n",
        "\n",
        "[Notebook link](https://drive.google.com/file/d/1h6fWkHamfPQOTZL5JB1PmDl8ahAHcpXj/view?usp=sharing)\n",
        "Powered by a chill transformer model, it keeps things simple but solid, no fancy setup needed.\n",
        "\n",
        "Installs needed packages, loads an English-to-French translator model, and sets up tools to create a simple interactive input in Colab."
      ],
      "metadata": {
        "id": "HH9b_Je98gYs"
      }
    },
    {
      "cell_type": "code",
      "source": [
        "!pip install -q transformers ipywidgets\n",
        "\n",
        "from transformers import pipeline\n",
        "import ipywidgets as widgets\n",
        "from IPython.display import display, clear_output\n",
        "\n",
        "translator = pipeline(\"translation_en_to_fr\", model=\"Helsinki-NLP/opus-mt-en-fr\")\n",
        "\n"
      ],
      "metadata": {
        "colab": {
          "base_uri": "https://localhost:8080/"
        },
        "id": "njNn5gcv7GK3",
        "outputId": "b9313228-08a6-440c-ac0a-43df3748b418"
      },
      "execution_count": 2,
      "outputs": [
        {
          "output_type": "stream",
          "name": "stderr",
          "text": [
            "Device set to use cpu\n"
          ]
        }
      ]
    },
    {
      "cell_type": "markdown",
      "source": [
        "Creates a text box for English input, a green translate button, and an area to show the translation results."
      ],
      "metadata": {
        "id": "YN2G_b-8-bTL"
      }
    },
    {
      "cell_type": "code",
      "source": [
        "\n",
        "text_input = widgets.Textarea(\n",
        "    value='Technology has transformed the way we live...',\n",
        "    placeholder='Type or paste English text here',\n",
        "    description='English:',\n",
        "    layout=widgets.Layout(width='100%', height='100px')\n",
        ")\n",
        "\n",
        "translate_btn = widgets.Button(\n",
        "    description='Translate 🇫🇷',\n",
        "    button_style='success',\n",
        ")\n",
        "\n",
        "output_area = widgets.Output()\n"
      ],
      "metadata": {
        "id": "rvEFUBwE8uw7"
      },
      "execution_count": null,
      "outputs": []
    },
    {
      "cell_type": "markdown",
      "source": [
        "This runs when you click translate — grabs your English text, checks if it’s empty, then shows the original and the French translation below."
      ],
      "metadata": {
        "id": "BaLlSAHN-iLi"
      }
    },
    {
      "cell_type": "code",
      "source": [
        "\n",
        "def on_translate_clicked(b):\n",
        "    output_area.clear_output()\n",
        "    with output_area:\n",
        "        text = text_input.value.strip()\n",
        "        if not text:\n",
        "            print(\"⚠️ Please enter some English text.\")\n",
        "            return\n",
        "        translated = translator(text, src_lang=\"en\", tgt_lang=\"fr\")\n",
        "        print(\"🔤 Original:\\n\", text)\n",
        "        print(\"\\n🌍 Translated (FR):\\n\", translated[0]['translation_text'])\n",
        "\n",
        "translate_btn.on_click(on_translate_clicked)\n",
        "\n",
        "display(text_input, translate_btn, output_area)\n"
      ],
      "metadata": {
        "id": "crfhM-u88xcx"
      },
      "execution_count": null,
      "outputs": []
    },
    {
      "cell_type": "markdown",
      "source": [
        "I made this quick little translator just to mess around with AI models. It’s no big project or anything—took me like 20 minutes😎."
      ],
      "metadata": {
        "id": "C2DQAqTy-_i4"
      }
    }
  ]
}